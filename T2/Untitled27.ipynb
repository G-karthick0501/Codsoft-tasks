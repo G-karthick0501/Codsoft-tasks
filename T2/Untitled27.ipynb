{
 "cells": [
  {
   "cell_type": "code",
   "execution_count": 1,
   "id": "9b234f8a",
   "metadata": {},
   "outputs": [
    {
     "data": {
      "text/html": [
       "<div>\n",
       "<style scoped>\n",
       "    .dataframe tbody tr th:only-of-type {\n",
       "        vertical-align: middle;\n",
       "    }\n",
       "\n",
       "    .dataframe tbody tr th {\n",
       "        vertical-align: top;\n",
       "    }\n",
       "\n",
       "    .dataframe thead th {\n",
       "        text-align: right;\n",
       "    }\n",
       "</style>\n",
       "<table border=\"1\" class=\"dataframe\">\n",
       "  <thead>\n",
       "    <tr style=\"text-align: right;\">\n",
       "      <th></th>\n",
       "      <th>Name</th>\n",
       "      <th>Year</th>\n",
       "      <th>Duration</th>\n",
       "      <th>Genre</th>\n",
       "      <th>Rating</th>\n",
       "      <th>Votes</th>\n",
       "      <th>Director</th>\n",
       "      <th>Actor 1</th>\n",
       "      <th>Actor 2</th>\n",
       "      <th>Actor 3</th>\n",
       "    </tr>\n",
       "  </thead>\n",
       "  <tbody>\n",
       "    <tr>\n",
       "      <th>0</th>\n",
       "      <td></td>\n",
       "      <td>NaN</td>\n",
       "      <td>NaN</td>\n",
       "      <td>Drama</td>\n",
       "      <td>NaN</td>\n",
       "      <td>NaN</td>\n",
       "      <td>J.S. Randhawa</td>\n",
       "      <td>Manmauji</td>\n",
       "      <td>Birbal</td>\n",
       "      <td>Rajendra Bhatia</td>\n",
       "    </tr>\n",
       "    <tr>\n",
       "      <th>1</th>\n",
       "      <td>#Gadhvi (He thought he was Gandhi)</td>\n",
       "      <td>(2019)</td>\n",
       "      <td>109 min</td>\n",
       "      <td>Drama</td>\n",
       "      <td>7.0</td>\n",
       "      <td>8</td>\n",
       "      <td>Gaurav Bakshi</td>\n",
       "      <td>Rasika Dugal</td>\n",
       "      <td>Vivek Ghamande</td>\n",
       "      <td>Arvind Jangid</td>\n",
       "    </tr>\n",
       "    <tr>\n",
       "      <th>2</th>\n",
       "      <td>#Homecoming</td>\n",
       "      <td>(2021)</td>\n",
       "      <td>90 min</td>\n",
       "      <td>Drama, Musical</td>\n",
       "      <td>NaN</td>\n",
       "      <td>NaN</td>\n",
       "      <td>Soumyajit Majumdar</td>\n",
       "      <td>Sayani Gupta</td>\n",
       "      <td>Plabita Borthakur</td>\n",
       "      <td>Roy Angana</td>\n",
       "    </tr>\n",
       "    <tr>\n",
       "      <th>3</th>\n",
       "      <td>#Yaaram</td>\n",
       "      <td>(2019)</td>\n",
       "      <td>110 min</td>\n",
       "      <td>Comedy, Romance</td>\n",
       "      <td>4.4</td>\n",
       "      <td>35</td>\n",
       "      <td>Ovais Khan</td>\n",
       "      <td>Prateik</td>\n",
       "      <td>Ishita Raj</td>\n",
       "      <td>Siddhant Kapoor</td>\n",
       "    </tr>\n",
       "    <tr>\n",
       "      <th>4</th>\n",
       "      <td>...And Once Again</td>\n",
       "      <td>(2010)</td>\n",
       "      <td>105 min</td>\n",
       "      <td>Drama</td>\n",
       "      <td>NaN</td>\n",
       "      <td>NaN</td>\n",
       "      <td>Amol Palekar</td>\n",
       "      <td>Rajat Kapoor</td>\n",
       "      <td>Rituparna Sengupta</td>\n",
       "      <td>Antara Mali</td>\n",
       "    </tr>\n",
       "    <tr>\n",
       "      <th>...</th>\n",
       "      <td>...</td>\n",
       "      <td>...</td>\n",
       "      <td>...</td>\n",
       "      <td>...</td>\n",
       "      <td>...</td>\n",
       "      <td>...</td>\n",
       "      <td>...</td>\n",
       "      <td>...</td>\n",
       "      <td>...</td>\n",
       "      <td>...</td>\n",
       "    </tr>\n",
       "    <tr>\n",
       "      <th>15504</th>\n",
       "      <td>Zulm Ko Jala Doonga</td>\n",
       "      <td>(1988)</td>\n",
       "      <td>NaN</td>\n",
       "      <td>Action</td>\n",
       "      <td>4.6</td>\n",
       "      <td>11</td>\n",
       "      <td>Mahendra Shah</td>\n",
       "      <td>Naseeruddin Shah</td>\n",
       "      <td>Sumeet Saigal</td>\n",
       "      <td>Suparna Anand</td>\n",
       "    </tr>\n",
       "    <tr>\n",
       "      <th>15505</th>\n",
       "      <td>Zulmi</td>\n",
       "      <td>(1999)</td>\n",
       "      <td>129 min</td>\n",
       "      <td>Action, Drama</td>\n",
       "      <td>4.5</td>\n",
       "      <td>655</td>\n",
       "      <td>Kuku Kohli</td>\n",
       "      <td>Akshay Kumar</td>\n",
       "      <td>Twinkle Khanna</td>\n",
       "      <td>Aruna Irani</td>\n",
       "    </tr>\n",
       "    <tr>\n",
       "      <th>15506</th>\n",
       "      <td>Zulmi Raj</td>\n",
       "      <td>(2005)</td>\n",
       "      <td>NaN</td>\n",
       "      <td>Action</td>\n",
       "      <td>NaN</td>\n",
       "      <td>NaN</td>\n",
       "      <td>Kiran Thej</td>\n",
       "      <td>Sangeeta Tiwari</td>\n",
       "      <td>NaN</td>\n",
       "      <td>NaN</td>\n",
       "    </tr>\n",
       "    <tr>\n",
       "      <th>15507</th>\n",
       "      <td>Zulmi Shikari</td>\n",
       "      <td>(1988)</td>\n",
       "      <td>NaN</td>\n",
       "      <td>Action</td>\n",
       "      <td>NaN</td>\n",
       "      <td>NaN</td>\n",
       "      <td>NaN</td>\n",
       "      <td>NaN</td>\n",
       "      <td>NaN</td>\n",
       "      <td>NaN</td>\n",
       "    </tr>\n",
       "    <tr>\n",
       "      <th>15508</th>\n",
       "      <td>Zulm-O-Sitam</td>\n",
       "      <td>(1998)</td>\n",
       "      <td>130 min</td>\n",
       "      <td>Action, Drama</td>\n",
       "      <td>6.2</td>\n",
       "      <td>20</td>\n",
       "      <td>K.C. Bokadia</td>\n",
       "      <td>Dharmendra</td>\n",
       "      <td>Jaya Prada</td>\n",
       "      <td>Arjun Sarja</td>\n",
       "    </tr>\n",
       "  </tbody>\n",
       "</table>\n",
       "<p>15509 rows × 10 columns</p>\n",
       "</div>"
      ],
      "text/plain": [
       "                                     Name    Year Duration            Genre  \\\n",
       "0                                             NaN      NaN            Drama   \n",
       "1      #Gadhvi (He thought he was Gandhi)  (2019)  109 min            Drama   \n",
       "2                             #Homecoming  (2021)   90 min   Drama, Musical   \n",
       "3                                 #Yaaram  (2019)  110 min  Comedy, Romance   \n",
       "4                       ...And Once Again  (2010)  105 min            Drama   \n",
       "...                                   ...     ...      ...              ...   \n",
       "15504                 Zulm Ko Jala Doonga  (1988)      NaN           Action   \n",
       "15505                               Zulmi  (1999)  129 min    Action, Drama   \n",
       "15506                           Zulmi Raj  (2005)      NaN           Action   \n",
       "15507                       Zulmi Shikari  (1988)      NaN           Action   \n",
       "15508                        Zulm-O-Sitam  (1998)  130 min    Action, Drama   \n",
       "\n",
       "       Rating Votes            Director           Actor 1             Actor 2  \\\n",
       "0         NaN   NaN       J.S. Randhawa          Manmauji              Birbal   \n",
       "1         7.0     8       Gaurav Bakshi      Rasika Dugal      Vivek Ghamande   \n",
       "2         NaN   NaN  Soumyajit Majumdar      Sayani Gupta   Plabita Borthakur   \n",
       "3         4.4    35          Ovais Khan           Prateik          Ishita Raj   \n",
       "4         NaN   NaN        Amol Palekar      Rajat Kapoor  Rituparna Sengupta   \n",
       "...       ...   ...                 ...               ...                 ...   \n",
       "15504     4.6    11       Mahendra Shah  Naseeruddin Shah       Sumeet Saigal   \n",
       "15505     4.5   655          Kuku Kohli      Akshay Kumar      Twinkle Khanna   \n",
       "15506     NaN   NaN          Kiran Thej   Sangeeta Tiwari                 NaN   \n",
       "15507     NaN   NaN                 NaN               NaN                 NaN   \n",
       "15508     6.2    20        K.C. Bokadia        Dharmendra          Jaya Prada   \n",
       "\n",
       "               Actor 3  \n",
       "0      Rajendra Bhatia  \n",
       "1        Arvind Jangid  \n",
       "2           Roy Angana  \n",
       "3      Siddhant Kapoor  \n",
       "4          Antara Mali  \n",
       "...                ...  \n",
       "15504    Suparna Anand  \n",
       "15505      Aruna Irani  \n",
       "15506              NaN  \n",
       "15507              NaN  \n",
       "15508      Arjun Sarja  \n",
       "\n",
       "[15509 rows x 10 columns]"
      ]
     },
     "execution_count": 1,
     "metadata": {},
     "output_type": "execute_result"
    }
   ],
   "source": [
    "\n",
    "import numpy as np\n",
    "import pandas as pd\n",
    "import matplotlib.pyplot as plt\n",
    "import seaborn as snr\n",
    "from sklearn.preprocessing import OneHotEncoder\n",
    "from sklearn.ensemble import GradientBoostingRegressor\n",
    "from sklearn.metrics import r2_score\n",
    "from sklearn.preprocessing import StandardScaler\n",
    "     \n",
    "\n",
    "\n",
    "data=pd.read_csv(\"IMDb Movies India.csv\",encoding='ISO-8859-1')\n",
    "data"
   ]
  },
  {
   "cell_type": "code",
   "execution_count": 2,
   "id": "ce27994b",
   "metadata": {},
   "outputs": [],
   "source": [
    "# Model 1"
   ]
  },
  {
   "cell_type": "code",
   "execution_count": 3,
   "id": "c990d9a5",
   "metadata": {},
   "outputs": [
    {
     "data": {
      "text/html": [
       "<div>\n",
       "<style scoped>\n",
       "    .dataframe tbody tr th:only-of-type {\n",
       "        vertical-align: middle;\n",
       "    }\n",
       "\n",
       "    .dataframe tbody tr th {\n",
       "        vertical-align: top;\n",
       "    }\n",
       "\n",
       "    .dataframe thead th {\n",
       "        text-align: right;\n",
       "    }\n",
       "</style>\n",
       "<table border=\"1\" class=\"dataframe\">\n",
       "  <thead>\n",
       "    <tr style=\"text-align: right;\">\n",
       "      <th></th>\n",
       "      <th>Duration</th>\n",
       "      <th>Rating</th>\n",
       "      <th>Votes</th>\n",
       "    </tr>\n",
       "  </thead>\n",
       "  <tbody>\n",
       "    <tr>\n",
       "      <th>0</th>\n",
       "      <td>NaN</td>\n",
       "      <td>NaN</td>\n",
       "      <td>NaN</td>\n",
       "    </tr>\n",
       "    <tr>\n",
       "      <th>1</th>\n",
       "      <td>109 min</td>\n",
       "      <td>7.0</td>\n",
       "      <td>8</td>\n",
       "    </tr>\n",
       "    <tr>\n",
       "      <th>2</th>\n",
       "      <td>90 min</td>\n",
       "      <td>NaN</td>\n",
       "      <td>NaN</td>\n",
       "    </tr>\n",
       "    <tr>\n",
       "      <th>3</th>\n",
       "      <td>110 min</td>\n",
       "      <td>4.4</td>\n",
       "      <td>35</td>\n",
       "    </tr>\n",
       "    <tr>\n",
       "      <th>4</th>\n",
       "      <td>105 min</td>\n",
       "      <td>NaN</td>\n",
       "      <td>NaN</td>\n",
       "    </tr>\n",
       "    <tr>\n",
       "      <th>...</th>\n",
       "      <td>...</td>\n",
       "      <td>...</td>\n",
       "      <td>...</td>\n",
       "    </tr>\n",
       "    <tr>\n",
       "      <th>15504</th>\n",
       "      <td>NaN</td>\n",
       "      <td>4.6</td>\n",
       "      <td>11</td>\n",
       "    </tr>\n",
       "    <tr>\n",
       "      <th>15505</th>\n",
       "      <td>129 min</td>\n",
       "      <td>4.5</td>\n",
       "      <td>655</td>\n",
       "    </tr>\n",
       "    <tr>\n",
       "      <th>15506</th>\n",
       "      <td>NaN</td>\n",
       "      <td>NaN</td>\n",
       "      <td>NaN</td>\n",
       "    </tr>\n",
       "    <tr>\n",
       "      <th>15507</th>\n",
       "      <td>NaN</td>\n",
       "      <td>NaN</td>\n",
       "      <td>NaN</td>\n",
       "    </tr>\n",
       "    <tr>\n",
       "      <th>15508</th>\n",
       "      <td>130 min</td>\n",
       "      <td>6.2</td>\n",
       "      <td>20</td>\n",
       "    </tr>\n",
       "  </tbody>\n",
       "</table>\n",
       "<p>15509 rows × 3 columns</p>\n",
       "</div>"
      ],
      "text/plain": [
       "      Duration  Rating Votes\n",
       "0          NaN     NaN   NaN\n",
       "1      109 min     7.0     8\n",
       "2       90 min     NaN   NaN\n",
       "3      110 min     4.4    35\n",
       "4      105 min     NaN   NaN\n",
       "...        ...     ...   ...\n",
       "15504      NaN     4.6    11\n",
       "15505  129 min     4.5   655\n",
       "15506      NaN     NaN   NaN\n",
       "15507      NaN     NaN   NaN\n",
       "15508  130 min     6.2    20\n",
       "\n",
       "[15509 rows x 3 columns]"
      ]
     },
     "execution_count": 3,
     "metadata": {},
     "output_type": "execute_result"
    }
   ],
   "source": [
    "input1=data.drop(['Name','Year','Genre','Director','Actor 1','Actor 2','Actor 3'], axis=1)\n",
    "input1"
   ]
  },
  {
   "cell_type": "code",
   "execution_count": 5,
   "id": "a177d5e6",
   "metadata": {},
   "outputs": [
    {
     "data": {
      "text/plain": [
       "Duration    8269\n",
       "Rating      7590\n",
       "Votes       7589\n",
       "dtype: int64"
      ]
     },
     "execution_count": 5,
     "metadata": {},
     "output_type": "execute_result"
    }
   ],
   "source": [
    "input1.isnull().sum()"
   ]
  },
  {
   "cell_type": "code",
   "execution_count": 6,
   "id": "9fb2d37f",
   "metadata": {},
   "outputs": [],
   "source": [
    "\n",
    "input1.dropna(subset=['Duration','Votes','Rating'], inplace=True)\n",
    "input1['Duration']=input1['Duration'].str.replace(' min', '')"
   ]
  },
  {
   "cell_type": "code",
   "execution_count": 7,
   "id": "331d3103",
   "metadata": {},
   "outputs": [
    {
     "name": "stdout",
     "output_type": "stream",
     "text": [
      "<class 'pandas.core.frame.DataFrame'>\n",
      "Index: 5851 entries, 1 to 15508\n",
      "Data columns (total 3 columns):\n",
      " #   Column    Non-Null Count  Dtype  \n",
      "---  ------    --------------  -----  \n",
      " 0   Duration  5851 non-null   object \n",
      " 1   Rating    5851 non-null   float64\n",
      " 2   Votes     5851 non-null   object \n",
      "dtypes: float64(1), object(2)\n",
      "memory usage: 182.8+ KB\n"
     ]
    }
   ],
   "source": [
    "input1.info()"
   ]
  },
  {
   "cell_type": "code",
   "execution_count": 8,
   "id": "1c624449",
   "metadata": {},
   "outputs": [
    {
     "data": {
      "text/html": [
       "<div>\n",
       "<style scoped>\n",
       "    .dataframe tbody tr th:only-of-type {\n",
       "        vertical-align: middle;\n",
       "    }\n",
       "\n",
       "    .dataframe tbody tr th {\n",
       "        vertical-align: top;\n",
       "    }\n",
       "\n",
       "    .dataframe thead th {\n",
       "        text-align: right;\n",
       "    }\n",
       "</style>\n",
       "<table border=\"1\" class=\"dataframe\">\n",
       "  <thead>\n",
       "    <tr style=\"text-align: right;\">\n",
       "      <th></th>\n",
       "      <th>Duration</th>\n",
       "      <th>Votes</th>\n",
       "    </tr>\n",
       "  </thead>\n",
       "  <tbody>\n",
       "    <tr>\n",
       "      <th>1</th>\n",
       "      <td>109</td>\n",
       "      <td>8</td>\n",
       "    </tr>\n",
       "    <tr>\n",
       "      <th>3</th>\n",
       "      <td>110</td>\n",
       "      <td>35</td>\n",
       "    </tr>\n",
       "    <tr>\n",
       "      <th>5</th>\n",
       "      <td>147</td>\n",
       "      <td>827</td>\n",
       "    </tr>\n",
       "    <tr>\n",
       "      <th>6</th>\n",
       "      <td>142</td>\n",
       "      <td>1,086</td>\n",
       "    </tr>\n",
       "    <tr>\n",
       "      <th>8</th>\n",
       "      <td>82</td>\n",
       "      <td>326</td>\n",
       "    </tr>\n",
       "    <tr>\n",
       "      <th>...</th>\n",
       "      <td>...</td>\n",
       "      <td>...</td>\n",
       "    </tr>\n",
       "    <tr>\n",
       "      <th>15493</th>\n",
       "      <td>115</td>\n",
       "      <td>408</td>\n",
       "    </tr>\n",
       "    <tr>\n",
       "      <th>15494</th>\n",
       "      <td>153</td>\n",
       "      <td>1,496</td>\n",
       "    </tr>\n",
       "    <tr>\n",
       "      <th>15503</th>\n",
       "      <td>125</td>\n",
       "      <td>44</td>\n",
       "    </tr>\n",
       "    <tr>\n",
       "      <th>15505</th>\n",
       "      <td>129</td>\n",
       "      <td>655</td>\n",
       "    </tr>\n",
       "    <tr>\n",
       "      <th>15508</th>\n",
       "      <td>130</td>\n",
       "      <td>20</td>\n",
       "    </tr>\n",
       "  </tbody>\n",
       "</table>\n",
       "<p>5851 rows × 2 columns</p>\n",
       "</div>"
      ],
      "text/plain": [
       "      Duration  Votes\n",
       "1          109      8\n",
       "3          110     35\n",
       "5          147    827\n",
       "6          142  1,086\n",
       "8           82    326\n",
       "...        ...    ...\n",
       "15493      115    408\n",
       "15494      153  1,496\n",
       "15503      125     44\n",
       "15505      129    655\n",
       "15508      130     20\n",
       "\n",
       "[5851 rows x 2 columns]"
      ]
     },
     "execution_count": 8,
     "metadata": {},
     "output_type": "execute_result"
    }
   ],
   "source": [
    "x=input1.drop(['Rating'], axis=1)\n",
    "y=input1['Rating']\n",
    "x\n"
   ]
  },
  {
   "cell_type": "code",
   "execution_count": 9,
   "id": "8d61e4aa",
   "metadata": {},
   "outputs": [],
   "source": [
    "from sklearn.model_selection import train_test_split\n",
    "from sklearn.preprocessing import StandardScaler\n",
    "from sklearn.linear_model import LinearRegression\n",
    "from sklearn.metrics import mean_squared_error, r2_score\n",
    "from sklearn.metrics import accuracy_score\n",
    "\n",
    "x['Votes'] = x['Votes'].astype(str).str.replace(',', '').astype(int)\n",
    "\n",
    "x_train, x_test, y_train, y_test = train_test_split(x, y, train_size=0.8, random_state=22)"
   ]
  },
  {
   "cell_type": "code",
   "execution_count": 10,
   "id": "fef8e2a7",
   "metadata": {},
   "outputs": [],
   "source": [
    "scaler = StandardScaler()\n",
    "x_train_scaled = scaler.fit_transform(x_train)\n",
    "x_test_scaled = scaler.transform(x_test)\n",
    "\n",
    "\n",
    "model = LinearRegression()\n",
    "model.fit(x_train_scaled, y_train)\n",
    "\n",
    "\n",
    "y_pred = model.predict(x_test_scaled)"
   ]
  },
  {
   "cell_type": "code",
   "execution_count": 11,
   "id": "3273db7c",
   "metadata": {},
   "outputs": [
    {
     "data": {
      "text/plain": [
       "0.2886421861656704"
      ]
     },
     "execution_count": 11,
     "metadata": {},
     "output_type": "execute_result"
    }
   ],
   "source": [
    "y_pred_rounded = y_pred.round()\n",
    "y_test_rounded = y_test.round()\n",
    "\n",
    "# Ensure that predictions are within the valid rating range (e.g., 0 to 10 for IMDb ratings)\n",
    "\n",
    "y_pred_rounded = y_pred_rounded.clip(min=0, max=10)\n",
    "\n",
    "# Calculate the accuracy\n",
    "accuracy = accuracy_score(y_test_rounded, y_pred_rounded)\n",
    "\n",
    "accuracy"
   ]
  },
  {
   "cell_type": "code",
   "execution_count": 12,
   "id": "f204f1cf",
   "metadata": {},
   "outputs": [
    {
     "data": {
      "text/plain": [
       "'Rating = 5.9304 + -0.0688 * Duration + 0.1784 * Votes'"
      ]
     },
     "execution_count": 12,
     "metadata": {},
     "output_type": "execute_result"
    }
   ],
   "source": [
    "coefficients = model.coef_\n",
    "intercept = model.intercept_\n",
    "\n",
    "# Display the linear regression equation\n",
    "equation = f\"Rating = {intercept:.4f} + {coefficients[0]:.4f} * Duration + {coefficients[1]:.4f} * Votes\"\n",
    "equation"
   ]
  },
  {
   "cell_type": "code",
   "execution_count": 13,
   "id": "2cee55dc",
   "metadata": {},
   "outputs": [],
   "source": [
    "# Model 2: Based on Polynomial reg\n",
    "\n",
    "from sklearn.preprocessing import PolynomialFeatures, StandardScaler\n",
    "from sklearn.pipeline import make_pipeline\n",
    "\n",
    "degree = 3\n",
    "poly = PolynomialFeatures(degree)\n",
    "x_poly = poly.fit_transform(x)\n",
    "model = make_pipeline(StandardScaler(), LinearRegression())\n",
    "model.fit(x_train, y_train)\n",
    "y_pred = model.predict(x_test)\n",
    "\n",
    "y_pred_rounded = y_pred.round().clip(min=0, max=10)\n",
    "y_test_rounded = y_test.round()\n",
    "accuracy = accuracy_score(y_test_rounded, y_pred_rounded)"
   ]
  },
  {
   "cell_type": "code",
   "execution_count": 14,
   "id": "c0006ed7",
   "metadata": {},
   "outputs": [
    {
     "data": {
      "text/plain": [
       "0.2886421861656704"
      ]
     },
     "execution_count": 14,
     "metadata": {},
     "output_type": "execute_result"
    }
   ],
   "source": [
    "accuracy"
   ]
  },
  {
   "cell_type": "code",
   "execution_count": 15,
   "id": "d9823b37",
   "metadata": {},
   "outputs": [
    {
     "name": "stdout",
     "output_type": "stream",
     "text": [
      "Rating = 5.9304 + (-0.0688 * 1) + (0.1784 * Duration)\n"
     ]
    }
   ],
   "source": [
    "feature_names = poly.get_feature_names_out(input_features=['Duration', 'Votes'])\n",
    "\n",
    "# Construct the polynomial regression equation\n",
    "equation = f\"Rating = {intercept:.4f}\"\n",
    "for coef, name in zip(coefficients, feature_names):\n",
    "    equation += f\" + ({coef:.4f} * {name})\"\n",
    "\n",
    "print(equation)"
   ]
  },
  {
   "cell_type": "code",
   "execution_count": 16,
   "id": "9f7a47f2",
   "metadata": {},
   "outputs": [
    {
     "name": "stdout",
     "output_type": "stream",
     "text": [
      "Accuracy: 0.22117847993168233\n"
     ]
    }
   ],
   "source": [
    "# Model 3:\n",
    "from sklearn.tree import DecisionTreeRegressor\n",
    "from sklearn.model_selection import train_test_split\n",
    "from sklearn.metrics import mean_squared_error, r2_score, accuracy_score\n",
    "from sklearn.preprocessing import StandardScaler\n",
    "\n",
    "# Split the data into training and testing sets\n",
    "x_train, x_test, y_train, y_test = train_test_split(x, y, test_size=0.2, random_state=42)\n",
    "\n",
    "# Standardize the features\n",
    "scaler = StandardScaler()\n",
    "x_train_scaled = scaler.fit_transform(x_train)\n",
    "x_test_scaled = scaler.transform(x_test)\n",
    "\n",
    "# Train the Decision Tree model\n",
    "tree_model = DecisionTreeRegressor(random_state=42)\n",
    "tree_model.fit(x_train_scaled, y_train)\n",
    "\n",
    "# Predict on the test set\n",
    "y_pred_tree = tree_model.predict(x_test_scaled)\n",
    "\n",
    "\n",
    "# Calculate accuracy for rounded predictions\n",
    "y_pred_tree_rounded = y_pred_tree.round().clip(min=0, max=10)\n",
    "y_test_rounded = y_test.round()\n",
    "accuracy_tree = accuracy_score(y_test_rounded, y_pred_tree_rounded)\n",
    "\n",
    "print(f'Accuracy: {accuracy_tree}')\n",
    "\n"
   ]
  },
  {
   "cell_type": "code",
   "execution_count": 17,
   "id": "2b7f13b2",
   "metadata": {},
   "outputs": [],
   "source": [
    "# Clearly we need the other features as well in order to get the a decent predcition of rating\n"
   ]
  },
  {
   "cell_type": "code",
   "execution_count": 18,
   "id": "5532ade4",
   "metadata": {},
   "outputs": [
    {
     "data": {
      "text/html": [
       "<div>\n",
       "<style scoped>\n",
       "    .dataframe tbody tr th:only-of-type {\n",
       "        vertical-align: middle;\n",
       "    }\n",
       "\n",
       "    .dataframe tbody tr th {\n",
       "        vertical-align: top;\n",
       "    }\n",
       "\n",
       "    .dataframe thead th {\n",
       "        text-align: right;\n",
       "    }\n",
       "</style>\n",
       "<table border=\"1\" class=\"dataframe\">\n",
       "  <thead>\n",
       "    <tr style=\"text-align: right;\">\n",
       "      <th></th>\n",
       "      <th>Year</th>\n",
       "      <th>Duration</th>\n",
       "      <th>Genre</th>\n",
       "      <th>Rating</th>\n",
       "      <th>Votes</th>\n",
       "      <th>Director</th>\n",
       "      <th>Actor 1</th>\n",
       "      <th>Actor 2</th>\n",
       "      <th>Actor 3</th>\n",
       "    </tr>\n",
       "  </thead>\n",
       "  <tbody>\n",
       "    <tr>\n",
       "      <th>1</th>\n",
       "      <td>2019</td>\n",
       "      <td>109</td>\n",
       "      <td>252</td>\n",
       "      <td>7.0</td>\n",
       "      <td>8</td>\n",
       "      <td>755</td>\n",
       "      <td>1686</td>\n",
       "      <td>2725</td>\n",
       "      <td>373</td>\n",
       "    </tr>\n",
       "    <tr>\n",
       "      <th>3</th>\n",
       "      <td>2019</td>\n",
       "      <td>110</td>\n",
       "      <td>205</td>\n",
       "      <td>4.4</td>\n",
       "      <td>35</td>\n",
       "      <td>1637</td>\n",
       "      <td>1500</td>\n",
       "      <td>865</td>\n",
       "      <td>2543</td>\n",
       "    </tr>\n",
       "    <tr>\n",
       "      <th>5</th>\n",
       "      <td>1997</td>\n",
       "      <td>147</td>\n",
       "      <td>175</td>\n",
       "      <td>4.7</td>\n",
       "      <td>827</td>\n",
       "      <td>1881</td>\n",
       "      <td>481</td>\n",
       "      <td>84</td>\n",
       "      <td>2422</td>\n",
       "    </tr>\n",
       "    <tr>\n",
       "      <th>6</th>\n",
       "      <td>2005</td>\n",
       "      <td>142</td>\n",
       "      <td>315</td>\n",
       "      <td>7.4</td>\n",
       "      <td>1086</td>\n",
       "      <td>2486</td>\n",
       "      <td>878</td>\n",
       "      <td>1346</td>\n",
       "      <td>2996</td>\n",
       "    </tr>\n",
       "    <tr>\n",
       "      <th>8</th>\n",
       "      <td>2012</td>\n",
       "      <td>82</td>\n",
       "      <td>351</td>\n",
       "      <td>5.6</td>\n",
       "      <td>326</td>\n",
       "      <td>161</td>\n",
       "      <td>2385</td>\n",
       "      <td>1416</td>\n",
       "      <td>1189</td>\n",
       "    </tr>\n",
       "  </tbody>\n",
       "</table>\n",
       "</div>"
      ],
      "text/plain": [
       "   Year  Duration  Genre  Rating  Votes  Director  Actor 1  Actor 2  Actor 3\n",
       "1  2019       109    252     7.0      8       755     1686     2725      373\n",
       "3  2019       110    205     4.4     35      1637     1500      865     2543\n",
       "5  1997       147    175     4.7    827      1881      481       84     2422\n",
       "6  2005       142    315     7.4   1086      2486      878     1346     2996\n",
       "8  2012        82    351     5.6    326       161     2385     1416     1189"
      ]
     },
     "execution_count": 18,
     "metadata": {},
     "output_type": "execute_result"
    }
   ],
   "source": [
    "# Different approach to feature engineering\n",
    "# We include the categorical columns of 'Director' , 'Actor 1' , 'Actor2' , 'Actor3'  by label encdoing them \n",
    "\n",
    "\n",
    "movie_data=data.copy()\n",
    "\n",
    "# Pre=processing the data for forth coming feature transformations\n",
    "\n",
    "movie_data.dropna(subset=[\"Rating\"], inplace = True)\n",
    "\n",
    "\n",
    "movie_data.dropna(subset=['Actor 1','Actor 2','Actor 3','Director','Genre'],inplace=True)\n",
    "\n",
    "movie_data['Votes'] = movie_data['Votes'].str.replace(',','').astype(int)\n",
    "\n",
    "\n",
    "movie_data['Year'] = movie_data['Year'].str.strip('()').astype(int)\n",
    "\n",
    "movie_data['Duration'] = movie_data['Duration'].str.strip('min')\n",
    "\n",
    "movie_data['Duration'].fillna(movie_data['Duration'].median(),inplace=True)\n",
    "\n",
    "movie_data['Duration'] = movie_data['Duration'].astype(int)\n",
    "\n",
    "movie_data['Year'] = movie_data['Year'].astype(int)\n",
    "\n",
    "\n",
    "movie_data['Genre'] = movie_data['Genre'].str.split(',')\n",
    "\n",
    "from sklearn.preprocessing import LabelEncoder\n",
    "labelencoder = LabelEncoder()\n",
    "\n",
    "trans_data = movie_data.drop(['Name'],axis=1)\n",
    "# Transform Director columns\n",
    "trans_data['Director'] = labelencoder.fit_transform(movie_data['Director'])\n",
    "\n",
    "# Transform Actors Columns\n",
    "trans_data['Actor 1'] = labelencoder.fit_transform(movie_data['Actor 1'])\n",
    "trans_data['Actor 2'] = labelencoder.fit_transform(movie_data['Actor 2'])\n",
    "trans_data['Actor 3'] = labelencoder.fit_transform(movie_data['Actor 3'])\n",
    "\n",
    "trans_data['Genre'] = labelencoder.fit_transform(movie_data['Genre'].apply(lambda x: ', '.join(x)))\n",
    "\n",
    "trans_data.head()\n"
   ]
  },
  {
   "cell_type": "code",
   "execution_count": 19,
   "id": "219de999",
   "metadata": {},
   "outputs": [
    {
     "data": {
      "text/html": [
       "<div>\n",
       "<style scoped>\n",
       "    .dataframe tbody tr th:only-of-type {\n",
       "        vertical-align: middle;\n",
       "    }\n",
       "\n",
       "    .dataframe tbody tr th {\n",
       "        vertical-align: top;\n",
       "    }\n",
       "\n",
       "    .dataframe thead th {\n",
       "        text-align: right;\n",
       "    }\n",
       "</style>\n",
       "<table border=\"1\" class=\"dataframe\">\n",
       "  <thead>\n",
       "    <tr style=\"text-align: right;\">\n",
       "      <th></th>\n",
       "      <th>Year</th>\n",
       "      <th>Duration</th>\n",
       "      <th>Genre</th>\n",
       "      <th>Rating</th>\n",
       "      <th>Votes</th>\n",
       "      <th>Director</th>\n",
       "      <th>Actor 1</th>\n",
       "      <th>Actor 2</th>\n",
       "      <th>Actor 3</th>\n",
       "    </tr>\n",
       "  </thead>\n",
       "  <tbody>\n",
       "    <tr>\n",
       "      <th>0</th>\n",
       "      <td>0.980769</td>\n",
       "      <td>0.293333</td>\n",
       "      <td>0.607229</td>\n",
       "      <td>0.662921</td>\n",
       "      <td>0.000005</td>\n",
       "      <td>0.255499</td>\n",
       "      <td>0.698426</td>\n",
       "      <td>0.979511</td>\n",
       "      <td>0.123102</td>\n",
       "    </tr>\n",
       "    <tr>\n",
       "      <th>1</th>\n",
       "      <td>0.980769</td>\n",
       "      <td>0.296667</td>\n",
       "      <td>0.493976</td>\n",
       "      <td>0.370787</td>\n",
       "      <td>0.000051</td>\n",
       "      <td>0.553976</td>\n",
       "      <td>0.621375</td>\n",
       "      <td>0.310927</td>\n",
       "      <td>0.839274</td>\n",
       "    </tr>\n",
       "    <tr>\n",
       "      <th>2</th>\n",
       "      <td>0.769231</td>\n",
       "      <td>0.420000</td>\n",
       "      <td>0.421687</td>\n",
       "      <td>0.404494</td>\n",
       "      <td>0.001390</td>\n",
       "      <td>0.636548</td>\n",
       "      <td>0.199254</td>\n",
       "      <td>0.030194</td>\n",
       "      <td>0.799340</td>\n",
       "    </tr>\n",
       "    <tr>\n",
       "      <th>3</th>\n",
       "      <td>0.846154</td>\n",
       "      <td>0.403333</td>\n",
       "      <td>0.759036</td>\n",
       "      <td>0.707865</td>\n",
       "      <td>0.001828</td>\n",
       "      <td>0.841286</td>\n",
       "      <td>0.363712</td>\n",
       "      <td>0.483825</td>\n",
       "      <td>0.988779</td>\n",
       "    </tr>\n",
       "    <tr>\n",
       "      <th>4</th>\n",
       "      <td>0.913462</td>\n",
       "      <td>0.203333</td>\n",
       "      <td>0.845783</td>\n",
       "      <td>0.505618</td>\n",
       "      <td>0.000543</td>\n",
       "      <td>0.054484</td>\n",
       "      <td>0.987987</td>\n",
       "      <td>0.508986</td>\n",
       "      <td>0.392409</td>\n",
       "    </tr>\n",
       "  </tbody>\n",
       "</table>\n",
       "</div>"
      ],
      "text/plain": [
       "       Year  Duration     Genre    Rating     Votes  Director   Actor 1  \\\n",
       "0  0.980769  0.293333  0.607229  0.662921  0.000005  0.255499  0.698426   \n",
       "1  0.980769  0.296667  0.493976  0.370787  0.000051  0.553976  0.621375   \n",
       "2  0.769231  0.420000  0.421687  0.404494  0.001390  0.636548  0.199254   \n",
       "3  0.846154  0.403333  0.759036  0.707865  0.001828  0.841286  0.363712   \n",
       "4  0.913462  0.203333  0.845783  0.505618  0.000543  0.054484  0.987987   \n",
       "\n",
       "    Actor 2   Actor 3  \n",
       "0  0.979511  0.123102  \n",
       "1  0.310927  0.839274  \n",
       "2  0.030194  0.799340  \n",
       "3  0.483825  0.988779  \n",
       "4  0.508986  0.392409  "
      ]
     },
     "execution_count": 19,
     "metadata": {},
     "output_type": "execute_result"
    }
   ],
   "source": [
    "from sklearn.preprocessing import MinMaxScaler\n",
    "\n",
    "scaler = MinMaxScaler()\n",
    "sc_data = scaler.fit_transform(trans_data)\n",
    "sc_df = pd.DataFrame(sc_data,columns=trans_data.columns)\n",
    "\n",
    "sc_df.head()"
   ]
  },
  {
   "cell_type": "code",
   "execution_count": 22,
   "id": "f847c4d4",
   "metadata": {},
   "outputs": [
    {
     "data": {
      "text/plain": [
       "Rating      1.000000\n",
       "Votes       0.134655\n",
       "Genre       0.122565\n",
       "Actor 2     0.038852\n",
       "Actor 3     0.031550\n",
       "Actor 1     0.025089\n",
       "Duration   -0.001801\n",
       "Director   -0.003678\n",
       "Year       -0.194990\n",
       "Name: Rating, dtype: float64"
      ]
     },
     "execution_count": 22,
     "metadata": {},
     "output_type": "execute_result"
    }
   ],
   "source": [
    "corr_df = trans_data.corr(numeric_only=True)\n",
    "corr_df['Rating'].sort_values(ascending=False)\n",
    "\n",
    "\n",
    "     "
   ]
  },
  {
   "cell_type": "code",
   "execution_count": 30,
   "id": "e2052e2f",
   "metadata": {},
   "outputs": [],
   "source": [
    "column_list = sc_df.columns.tolist()"
   ]
  },
  {
   "cell_type": "code",
   "execution_count": 23,
   "id": "8c9afc5d",
   "metadata": {},
   "outputs": [
    {
     "data": {
      "text/plain": [
       "<Axes: >"
      ]
     },
     "execution_count": 23,
     "metadata": {},
     "output_type": "execute_result"
    },
    {
     "data": {
      "image/png": "[encoded data removed]",
      "text/plain": [
       "<Figure size 640x480 with 2 Axes>"
      ]
     },
     "metadata": {},
     "output_type": "display_data"
    }
   ],
   "source": [
    "import seaborn as sns\n",
    "sns.heatmap(corr_df,annot=False,cmap=\"coolwarm\")"
   ]
  },
  {
   "cell_type": "code",
   "execution_count": null,
   "id": "475ae2b4",
   "metadata": {},
   "outputs": [],
   "source": [
    "# Model 4: Again based on Linear regression"
   ]
  },
  {
   "cell_type": "code",
   "execution_count": 24,
   "id": "347bb6b9",
   "metadata": {},
   "outputs": [
    {
     "name": "stderr",
     "output_type": "stream",
     "text": [
      "C:\\Users\\karth\\anaconda3\\Lib\\site-packages\\sklearn\\base.py:464: UserWarning: X does not have valid feature names, but LinearRegression was fitted with feature names\n",
      "  warnings.warn(\n"
     ]
    },
    {
     "data": {
      "text/plain": [
       "array([6.38173569, 6.27438422, 6.24148256, ..., 5.6990634 , 6.25823896,\n",
       "       6.09526622])"
      ]
     },
     "execution_count": 24,
     "metadata": {},
     "output_type": "execute_result"
    }
   ],
   "source": [
    "X = trans_data.drop(['Rating'],axis=1)\n",
    "\n",
    "# Put only Rating data\n",
    "y = trans_data['Rating']\n",
    "\n",
    "X_train,X_test,y_train,y_test = train_test_split(X,y,test_size=0.3,random_state=42)\n",
    "\n",
    "model = LinearRegression()\n",
    "model.fit(X_train,y_train)\n",
    "\n",
    "X_test = np.array(X_test)\n",
    "\n",
    "y_pred = model.predict(X_test)\n",
    "y_pred"
   ]
  },
  {
   "cell_type": "code",
   "execution_count": 29,
   "id": "f0c9d682",
   "metadata": {},
   "outputs": [
    {
     "name": "stdout",
     "output_type": "stream",
     "text": [
      "accuracy score 0.31261022927689597\n"
     ]
    }
   ],
   "source": [
    "y_pred_rounded = y_pred.round().clip(min=0, max=10)\n",
    "y_test_rounded = y_test.round()\n",
    "print('accuracy score',accuracy_score(y_test_rounded,y_pred_rounded))"
   ]
  },
  {
   "cell_type": "code",
   "execution_count": 33,
   "id": "cb8cbc3b",
   "metadata": {},
   "outputs": [
    {
     "data": {
      "text/plain": [
       "['Year',\n",
       " 'Duration',\n",
       " 'Genre',\n",
       " 'Rating',\n",
       " 'Votes',\n",
       " 'Director',\n",
       " 'Actor 1',\n",
       " 'Actor 2',\n",
       " 'Actor 3']"
      ]
     },
     "execution_count": 33,
     "metadata": {},
     "output_type": "execute_result"
    }
   ],
   "source": [
    "column_list"
   ]
  },
  {
   "cell_type": "code",
   "execution_count": 40,
   "id": "e66e91b7",
   "metadata": {},
   "outputs": [
    {
     "name": "stdout",
     "output_type": "stream",
     "text": [
      "Rating = 36.3327 + (-0.0153 * 1) + (-0.0035 * Year) + (0.0013 * Duration) + (0.0000 * Genre) + (-0.0000 * Votes) + (0.0001 * Director) + (0.0001 * Actor 1) + (0.0000 * Actor 2)\n"
     ]
    }
   ],
   "source": [
    "from sklearn.preprocessing import PolynomialFeatures\n",
    "\n",
    "poly = PolynomialFeatures(degree=2)\n",
    "X_poly = poly.fit_transform(X)\n",
    "original_feature_names = X.columns\n",
    "\n",
    "intercept = model.intercept_\n",
    "coefficients = model.coef_\n",
    "feature_names = poly.get_feature_names_out(input_features=original_feature_names)\n",
    "\n",
    "\n",
    "\n",
    "# Construct the polynomial regression equation\n",
    "equation = f\"Rating = {intercept:.4f}\"\n",
    "for coef, name in zip(coefficients, feature_names):\n",
    "    equation += f\" + ({coef:.4f} * {name})\"\n",
    "\n",
    "print(equation)"
   ]
  },
  {
   "cell_type": "code",
   "execution_count": 41,
   "id": "80b2ed02",
   "metadata": {},
   "outputs": [
    {
     "name": "stdout",
     "output_type": "stream",
     "text": [
      "accuracy score 0.291005291005291\n"
     ]
    },
    {
     "name": "stderr",
     "output_type": "stream",
     "text": [
      "C:\\Users\\karth\\anaconda3\\Lib\\site-packages\\sklearn\\base.py:464: UserWarning: X does not have valid feature names, but DecisionTreeRegressor was fitted with feature names\n",
      "  warnings.warn(\n"
     ]
    }
   ],
   "source": [
    "# Model 5: Based on Decision Tree\n",
    "\n",
    "from sklearn.tree import DecisionTreeRegressor\n",
    "\n",
    "\n",
    "model = DecisionTreeRegressor()\n",
    "\n",
    "model.fit(X_train,y_train)\n",
    "X_test = np.array(X_test)\n",
    "\n",
    "y_pred = model.predict(X_test)\n",
    "\n",
    "y_pred_rounded = y_pred.round().clip(min=0, max=10)\n",
    "y_test_rounded = y_test.round()\n",
    "print('accuracy score',accuracy_score(y_test_rounded,y_pred_rounded))\n"
   ]
  }
 ],
 "metadata": {
  "kernelspec": {
   "display_name": "Python 3 (ipykernel)",
   "language": "python",
   "name": "python3"
  },
  "language_info": {
   "codemirror_mode": {
    "name": "ipython",
    "version": 3
   },
   "file_extension": ".py",
   "mimetype": "text/x-python",
   "name": "python",
   "nbconvert_exporter": "python",
   "pygments_lexer": "ipython3",
   "version": "3.11.5"
  }
 },
 "nbformat": 4,
 "nbformat_minor": 5
}
